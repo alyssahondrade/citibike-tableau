{
 "cells": [
  {
   "cell_type": "code",
   "execution_count": 1,
   "id": "67fada83-b00a-4c5a-85f7-b842df0fb8ff",
   "metadata": {},
   "outputs": [],
   "source": [
    "# Import dependencies\n",
    "import pandas as pd\n",
    "from pathlib import Path\n",
    "\n",
    "from datetime import datetime\n",
    "import matplotlib.pyplot as plt"
   ]
  },
  {
   "cell_type": "code",
   "execution_count": null,
   "id": "c0247d2e-0994-4cd8-84f8-0e5379fa6b9e",
   "metadata": {},
   "outputs": [],
   "source": [
    "# Import latest dataset\n",
    "current_path = Path(\"resources/current-tripdata.csv\")\n",
    "current_df = pd.read_csv(\n",
    "    current_path,\n",
    "    dtype = {\n",
    "        'start_station_id': str, # dtype warning, column 5\n",
    "        'end_station_id': str # dtype warning, column 7\n",
    "    })"
   ]
  }
 ],
 "metadata": {
  "kernelspec": {
   "display_name": "dev",
   "language": "python",
   "name": "dev"
  },
  "language_info": {
   "codemirror_mode": {
    "name": "ipython",
    "version": 3
   },
   "file_extension": ".py",
   "mimetype": "text/x-python",
   "name": "python",
   "nbconvert_exporter": "python",
   "pygments_lexer": "ipython3",
   "version": "3.10.13"
  }
 },
 "nbformat": 4,
 "nbformat_minor": 5
}
